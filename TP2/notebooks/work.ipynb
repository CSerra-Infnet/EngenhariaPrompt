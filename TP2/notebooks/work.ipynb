{
 "cells": [
  {
   "cell_type": "code",
   "execution_count": 5,
   "metadata": {},
   "outputs": [
    {
     "data": {
      "text/plain": [
       "True"
      ]
     },
     "execution_count": 5,
     "metadata": {},
     "output_type": "execute_result"
    }
   ],
   "source": [
    "from dotenv import load_dotenv\n",
    "import os\n",
    "load_dotenv('../.env')"
   ]
  },
  {
   "cell_type": "code",
   "execution_count": 6,
   "metadata": {},
   "outputs": [],
   "source": [
    "def read_file(file_path):\n",
    "    result = None\n",
    "    with open(file_path, 'r') as file:\n",
    "        result = file.read()\n",
    "    if result is None:\n",
    "        raise Exception('Error reading file')\n",
    "    return result"
   ]
  },
  {
   "cell_type": "code",
   "execution_count": 10,
   "metadata": {},
   "outputs": [],
   "source": [
    "import google.generativeai as genai\n",
    "genai.configure(api_key=os.environ[\"GEMINI_KEY\"])\n",
    "model = genai.GenerativeModel(\"gemini-1.5-flash\")\n"
   ]
  },
  {
   "cell_type": "code",
   "execution_count": null,
   "metadata": {},
   "outputs": [],
   "source": [
    "noticia = read_file(\"../data/positive-news.txt\")\n",
    "prompt = f\"\"\"\n",
    "Resuma a pagina de noticias, <NOTICIA> retornando uma breve descrição, com até 3 frases, sobre as informações mais importantes das notícias.\n",
    "\n",
    "Aqui está um exemplo de resumo:\n",
    "\n",
    "<NOTICIA>\n",
    "\"A empresa X lançou um novo smartphone no mercado.\"\n",
    "###\n",
    "<RESUMO>\n",
    "\"A empresa X anunciou o lançamento de um novo smartphone, trazendo inovações tecnológicas e maior duração de bateria.\"\n",
    "\n",
    "Agora, faça o resumo das noticias abaixo:\n",
    "<NOTICIA>\n",
    "\"{noticia}\"\n",
    "###\n",
    "<RESUMO>\n",
    "\"\"\"\n",
    "response = model.generate_content(prompt)"
   ]
  },
  {
   "cell_type": "code",
   "execution_count": 14,
   "metadata": {},
   "outputs": [
    {
     "name": "stdout",
     "output_type": "stream",
     "text": [
      "<RESUMO>\n",
      "Esta semana, a premiação Earthshot revelou seus vencedores, o Reino Unido testou uma semana de trabalho de quatro dias e pesquisas sobre câncer deram um passo adiante. Além disso, a ONU se prepara para assinar um tratado importante sobre poluição plástica, e uma nova instituição de caridade está se unindo a bancos de alimentos britânicos para fornecer livros para leitura, empréstimo ou doação. As emissões líquidas totais de gases de efeito estufa na UE caíram 8% no ano passado, e práticas antigas de manejo de florestas estão sendo reconhecidas para combater os incêndios florestais que se tornam mais comuns devido às mudanças climáticas.\n",
      "\n"
     ]
    }
   ],
   "source": [
    "print(response.text)"
   ]
  },
  {
   "cell_type": "code",
   "execution_count": 18,
   "metadata": {},
   "outputs": [],
   "source": [
    "noticia1 = read_file(\"../data/pn-plastic-pollution.txt\")\n",
    "noticia2 = read_file(\"../data/pn-sustainable-farming.txt\")\n",
    "noticia3 = read_file(\"../data/pn-the-art-of-fire.txt\")\n",
    "\n",
    "prompt = f\"\"\"\n",
    "A partir das seguintes noticias <NOTICIAS> liste cada nome de Pessoa, Organização ou Evento  presentes no texto.\n",
    "\n",
    "Aqui está um exemplo de resumo:\n",
    "\n",
    "<NOTICIAS>\n",
    "\"A empresa X lançou um novo smartphone no mercado, Fulano de Tal comenta sobre o lançamento na E3.\"\n",
    "\"Beltrano comenta sobre a nova tecnologia da empresa Y.\"\n",
    "###\n",
    "<LISTA>\n",
    "- Empresa X\n",
    "- Fulano de Tal\n",
    "- E3\n",
    "- Beltrano\n",
    "- Empresa Y\n",
    "\n",
    "Agora, faça o resumo das noticias abaixo:\n",
    "<NOTICIAS>\n",
    "\"{noticia1}\"\n",
    "\"{noticia2}\"\n",
    "\"{noticia3}\"\n",
    "###\n",
    "<LISTA>\n",
    "\"\"\"\n",
    "response = model.generate_content(prompt)\n",
    "#prompt"
   ]
  },
  {
   "cell_type": "code",
   "execution_count": 19,
   "metadata": {},
   "outputs": [
    {
     "name": "stdout",
     "output_type": "stream",
     "text": [
      "## <LISTA>\n",
      "\n",
      "**Pessoas:**\n",
      "\n",
      "- Jo Caird\n",
      "- Lori Goff\n",
      "- Christina Thurner\n",
      "- Bénédicte Garbil\n",
      "- Jen Keane\n",
      "- Tim May\n",
      "- Rosie Jack\n",
      "- Clare Hill\n",
      "- Chris Saunders\n",
      "- Martin Wright\n",
      "- Lynne Hardy\n",
      "- Andrew Avitt\n",
      "- Fern McErlane\n",
      "\n",
      "**Organizações:**\n",
      "\n",
      "- United Nations\n",
      "- Organisation for Economic Co-operation and Development (OECD)\n",
      "- Outlander Materials\n",
      "- Grown bio\n",
      "- Ecovative Design LLC\n",
      "- Carbios\n",
      "- Modern Synthesis\n",
      "- Ganni\n",
      "- Pitch Up!\n",
      "- Kingsclere Estates\n",
      "- Balcaskie Estate\n",
      "- Scotland The Bread\n",
      "- Planton Farm\n",
      "- The Roaming Dairy\n",
      "- The Roaming Smoker\n",
      "- Sandhills Prescribed Burn Association\n",
      "- US Forest Service\n",
      "- The Nature Conservancy\n",
      "- Positive News \n",
      "- Imagine5\n",
      "\n",
      "**Eventos:**\n",
      "\n",
      "- Global Plastic Treaty\n",
      "- End Plastic Pollution Resolution\n",
      "- Wildfires in North America\n",
      "- British Columbia (BC) fire disaster in 2021\n",
      "- Pitch Up! application season (2024)\n",
      "\n",
      "**Outros:**\n",
      "\n",
      "- Salish\n",
      "- Coast Miwok\n",
      "- Native communities of Australia’s Northern Territories\n",
      "- Prescribed burns\n",
      "- Bacterial nanocellulose \n",
      "- Mycelium packaging\n",
      "- UnPlastic\n",
      "- PET\n",
      "- Microplastics \n",
      "\n"
     ]
    }
   ],
   "source": [
    "print(response.text)"
   ]
  },
  {
   "cell_type": "code",
   "execution_count": 20,
   "metadata": {},
   "outputs": [],
   "source": [
    "import tiktoken\n",
    "\n",
    "# Função para estimar número de tokens\n",
    "def estimar_tokens(texto):\n",
    "    encoder = tiktoken.get_encoding(\"cl100k_base\")  # Exemplo de codificação\n",
    "    # encoder = tiktoken.get_encoding(\"gpt-4o\")  # Exemplo de codificação\n",
    "    tokens = encoder.encode(texto)\n",
    "    return tokens"
   ]
  },
  {
   "cell_type": "code",
   "execution_count": null,
   "metadata": {},
   "outputs": [],
   "source": [
    "from vertexai.preview import tokenization\n",
    "\n",
    "model_name = \"gemini-1.5-flash-001\"\n",
    "tokenizer = tokenization.get_tokenizer_for_model(model_name)\n"
   ]
  },
  {
   "cell_type": "code",
   "execution_count": 45,
   "metadata": {},
   "outputs": [
    {
     "name": "stdout",
     "output_type": "stream",
     "text": [
      "result.total_tokens = 6,341\n"
     ]
    }
   ],
   "source": [
    "contents = read_file(\"../data/5000-words.txt\")\n",
    "result = tokenizer.count_tokens(contents)\n",
    "\n",
    "print(f\"{result.total_tokens = :,}\")"
   ]
  },
  {
   "cell_type": "code",
   "execution_count": 2,
   "metadata": {},
   "outputs": [
    {
     "data": {
      "text/plain": [
       "{'roteiro': {'atenas': 'Como um especialista em turismo, liste os 3 principais pontos turísticos de Atenas, Gŕecia, informando o número anual de visitantes e uma breve descrição de cada um.',\n",
       "  'roma': 'Como um especialista em turismo, liste os 3 principais pontos turísticos de Roma, Itália, informando o número anual de visitantes e uma breve descrição de cada um.'}}"
      ]
     },
     "execution_count": 2,
     "metadata": {},
     "output_type": "execute_result"
    }
   ],
   "source": [
    "import yaml\n",
    "\n",
    "\n",
    "with open(\"../roteiros.yaml\") as stream:\n",
    "    try:\n",
    "        roteiros = yaml.safe_load(stream)\n",
    "    except yaml.YAMLError as exc:\n",
    "        print(exc)\n",
    "\n",
    "roteiros"
   ]
  },
  {
   "cell_type": "code",
   "execution_count": 37,
   "metadata": {},
   "outputs": [
    {
     "name": "stdout",
     "output_type": "stream",
     "text": [
      "['## Os 3 principais pontos turísticos de Atenas, Grécia:\\n\\n1. **Acrópole de Atenas:**\\n\\n* **Número anual de visitantes:** Aproximadamente 3 milhões de pessoas por ano.\\n* **Descrição:** Considerada um dos marcos mais icônicos da Grécia e do mundo, a Acrópole é um complexo de construções antigas no topo de uma colina rochosa. Inclui monumentos como o Parthenon, o Erechtheion, a Porta dos Propileus e o Templo de Atena Niké. A Acrópole oferece vistas panorâmicas da cidade e é um testemunho da grandeza da civilização grega.\\n\\n2. **Fórum Romano:**\\n\\n* **Número anual de visitantes:** Aproximadamente 2 milhões de pessoas por ano.\\n* **Descrição:** O Fórum Romano é um complexo de edifícios romanos construídos no século II d.C., que foi o centro da vida pública e comercial da cidade. Inclui o Templo de Zeus Olímpico, a Biblioteca de Adriano e a Torre dos Ventos. O Fórum Romano oferece uma visão fascinante da influência romana na Grécia.\\n\\n3. **Museu da Acrópole:**\\n\\n* **Número anual de visitantes:** Aproximadamente 1,5 milhões de pessoas por ano.\\n* **Descrição:** Este museu moderno abriga artefatos da Acrópole, incluindo esculturas, frisos e artefatos arquitetônicos. O museu oferece uma visão abrangente da história e da arte da Acrópole, além de fornecer contexto para os monumentos.\\n\\n**Observação:** Os números de visitantes são aproximados e podem variar de ano para ano. \\n', '## 3 Pontos Turísticos Imperdíveis em Roma:\\n\\n**1. Coliseu:**\\n\\n* **Número anual de visitantes:** Aproximadamente 7,5 milhões de pessoas por ano. \\n* **Descrição:**  O Coliseu é um anfiteatro romano construído no século I d.C., um dos monumentos mais icônicos da história. Era utilizado para espetáculos grandiosos como combates de gladiadores e caças de animais. Atualmente, oferece uma janela para o passado, permitindo aos visitantes imaginar a grandiosidade dos eventos que ali ocorriam. \\n\\n**2. Fórum Romano e Palatino:**\\n\\n* **Número anual de visitantes:** Aproximadamente 4,5 milhões de pessoas por ano.\\n* **Descrição:** O Fórum Romano era o coração da vida pública e política da Roma Antiga, com templos, basílicas e mercados. O Palatino, por sua vez, era a colina onde a elite romana construiu suas casas e palácios. Juntos, esses sítios oferecem uma visão fascinante da história de Roma, desde a fundação da cidade até a era imperial.\\n\\n**3. Museu do Vaticano:**\\n\\n* **Número anual de visitantes:** Aproximadamente 6 milhões de pessoas por ano. \\n* **Descrição:**  O Museu do Vaticano é um complexo de museus que abriga obras de arte e artefatos de grande valor, como as Capelas Sistina e Paulina,  pinturas de artistas renomados como Rafael e Michelangelo, além de esculturas e mosaicos. A visita ao museu culmina na Basílica de São Pedro, um monumento icônico da Igreja Católica Romana.\\n\\n\\nÉ importante lembrar que esses são apenas alguns dos muitos pontos turísticos fascinantes que Roma oferece. A cidade possui uma riqueza cultural e histórica incomparável, com museus, igrejas, fontes e parques que encantam visitantes do mundo todo.\\n']\n"
     ]
    }
   ],
   "source": [
    "# para cada roteiro in roteiros fazer o prompt e salvar o resultado em variavel\n",
    "roteiro_responses = []\n",
    "for roteiro in roteiros.values():\n",
    "    for cidade in roteiro.keys():\n",
    "        prompt = roteiro[cidade]\n",
    "        response = model.generate_content(prompt)\n",
    "        roteiro_responses.append(response.text)\n",
    "\n",
    "print(roteiro_responses) "
   ]
  },
  {
   "cell_type": "code",
   "execution_count": 72,
   "metadata": {},
   "outputs": [
    {
     "data": {
      "text/plain": [
       "{'roteiro': {'atenas': \"Como um especialista em turismo, liste os 3 principais pontos turísticos de Atenas, Gŕecia, informando o número anual de visitantes e uma breve descrição de cada um. A saida deverá ser no formato Json, como <exemplo>.\\n###\\n<exemplo>\\n { pontosTuristicos: [{{cidade: 'Atenas', nome:'Ponto turistico 1', visitantesAno: '9.209', descricao: 'breve descrição sobre ponto turistico'}}]}\",\n",
       "  'roma': \"Como um especialista em turismo, liste os 3 principais pontos turísticos de Roma, Itália, informando o número anual de visitantes e uma breve descrição de cada um. A saida deverá ser no formato Json, como <exemplo>.\\n###\\n<exemplo>\\n{  pontosTuristicos: [{{cidade: 'Roma', nome:'Ponto turistico 1', visitantesAno: '7.923', descricao: 'breve descrição sobre ponto turistico'}}]}\"}}"
      ]
     },
     "execution_count": 72,
     "metadata": {},
     "output_type": "execute_result"
    }
   ],
   "source": [
    "\n",
    "with open(\"../roteiros-v2.yaml\") as stream:\n",
    "    try:\n",
    "        roteiros2 = yaml.safe_load(stream)\n",
    "    except yaml.YAMLError as exc:\n",
    "        print(exc)\n",
    "\n",
    "roteiros2"
   ]
  },
  {
   "cell_type": "code",
   "execution_count": 73,
   "metadata": {},
   "outputs": [
    {
     "name": "stdout",
     "output_type": "stream",
     "text": [
      "['```json\\n{\\n  \"pontosTuristicos\": [\\n    {\\n      \"cidade\": \"Atenas\",\\n      \"nome\": \"Acrópole\",\\n      \"visitantesAno\": \"7.000.000+\",\\n      \"descricao\": \"Um dos monumentos mais icônicos da Grécia antiga, a Acrópole de Atenas é um complexo de edifícios históricos, incluindo o Partenon, um templo dedicado à deusa Atena. Oferece vistas deslumbrantes da cidade e é um testemunho da grandeza da civilização grega.\"\\n    },\\n    {\\n      \"cidade\": \"Atenas\",\\n      \"nome\": \"Fórum Romano\",\\n      \"visitantesAno\": \"1.500.000+\",\\n      \"descricao\": \"Localizado no coração de Atenas, o Fórum Romano é um antigo espaço público que abriga ruínas de templos, bibliotecas e outros edifícios construídos durante a época romana. É um local fascinante para aprender sobre a história da cidade durante a época romana.\"\\n    },\\n    {\\n      \"cidade\": \"Atenas\",\\n      \"nome\": \"Museu da Acrópole\",\\n      \"visitantesAno\": \"1.400.000+\",\\n      \"descricao\": \"O Museu da Acrópole abriga uma coleção impressionante de artefatos e esculturas do período clássico grego, incluindo peças do Partenon e outras estruturas da Acrópole. É um lugar imperdível para quem deseja entender a história e a arte da Grécia antiga.\"\\n    }\\n  ]\\n}\\n```', '```json\\n{\\n  \"pontosTuristicos\": [\\n    {\\n      \"cidade\": \"Roma\",\\n      \"nome\": \"Coliseu\",\\n      \"visitantesAno\": \"7.400.000\",\\n      \"descricao\": \"Um anfiteatro romano antigo, construído em 80 d.C., que podia acomodar 50.000 espectadores e era usado para combates de gladiadores, caça de animais e outros espetáculos públicos.\"\\n    },\\n    {\\n      \"cidade\": \"Roma\",\\n      \"nome\": \"Fórum Romano\",\\n      \"visitantesAno\": \"4.500.000\",\\n      \"descricao\": \"Um antigo centro cívico, religioso e comercial de Roma, com ruínas de templos, basílicas, mercados e casas, que datam da época romana republicana e imperial.\"\\n    },\\n    {\\n      \"cidade\": \"Roma\",\\n      \"nome\": \"Museus do Vaticano\",\\n      \"visitantesAno\": \"6.000.000\",\\n      \"descricao\": \"Um complexo de museus dentro da Cidade do Vaticano, com obras de arte renascentistas, esculturas, afrescos e coleções arqueológicas, incluindo a Capela Sistina, com afrescos de Michelangelo.\"\\n    }\\n  ]\\n}\\n``` \\n']\n"
     ]
    }
   ],
   "source": [
    "# para cada roteiro in roteiros fazer o prompt e salvar o resultado em variavel\n",
    "roteiro2_responses = []\n",
    "for roteiro in roteiros2.values():\n",
    "    for cidade in roteiro.keys():\n",
    "        prompt = roteiro[cidade]\n",
    "        response = model.generate_content(prompt)\n",
    "        roteiro2_responses.append(response.text)\n",
    "\n",
    "\n",
    "print(roteiro2_responses) "
   ]
  },
  {
   "cell_type": "code",
   "execution_count": 88,
   "metadata": {},
   "outputs": [
    {
     "data": {
      "text/html": [
       "<div>\n",
       "<style scoped>\n",
       "    .dataframe tbody tr th:only-of-type {\n",
       "        vertical-align: middle;\n",
       "    }\n",
       "\n",
       "    .dataframe tbody tr th {\n",
       "        vertical-align: top;\n",
       "    }\n",
       "\n",
       "    .dataframe thead th {\n",
       "        text-align: right;\n",
       "    }\n",
       "</style>\n",
       "<table border=\"1\" class=\"dataframe\">\n",
       "  <thead>\n",
       "    <tr style=\"text-align: right;\">\n",
       "      <th></th>\n",
       "      <th>cidade</th>\n",
       "      <th>nome</th>\n",
       "      <th>visitantesAno</th>\n",
       "      <th>descricao</th>\n",
       "      <th>color</th>\n",
       "    </tr>\n",
       "  </thead>\n",
       "  <tbody>\n",
       "    <tr>\n",
       "      <th>0</th>\n",
       "      <td>Atenas</td>\n",
       "      <td>Acrópole</td>\n",
       "      <td>7000000</td>\n",
       "      <td>Um dos monumentos mais icônicos da Grécia anti...</td>\n",
       "      <td>red</td>\n",
       "    </tr>\n",
       "    <tr>\n",
       "      <th>1</th>\n",
       "      <td>Atenas</td>\n",
       "      <td>Fórum Romano</td>\n",
       "      <td>1500000</td>\n",
       "      <td>Localizado no coração de Atenas, o Fórum Roman...</td>\n",
       "      <td>red</td>\n",
       "    </tr>\n",
       "    <tr>\n",
       "      <th>2</th>\n",
       "      <td>Atenas</td>\n",
       "      <td>Museu da Acrópole</td>\n",
       "      <td>1400000</td>\n",
       "      <td>O Museu da Acrópole abriga uma coleção impress...</td>\n",
       "      <td>red</td>\n",
       "    </tr>\n",
       "    <tr>\n",
       "      <th>3</th>\n",
       "      <td>Roma</td>\n",
       "      <td>Coliseu</td>\n",
       "      <td>7400000</td>\n",
       "      <td>Um anfiteatro romano antigo, construído em 80 ...</td>\n",
       "      <td>blue</td>\n",
       "    </tr>\n",
       "    <tr>\n",
       "      <th>4</th>\n",
       "      <td>Roma</td>\n",
       "      <td>Fórum Romano</td>\n",
       "      <td>4500000</td>\n",
       "      <td>Um antigo centro cívico, religioso e comercial...</td>\n",
       "      <td>blue</td>\n",
       "    </tr>\n",
       "    <tr>\n",
       "      <th>5</th>\n",
       "      <td>Roma</td>\n",
       "      <td>Museus do Vaticano</td>\n",
       "      <td>6000000</td>\n",
       "      <td>Um complexo de museus dentro da Cidade do Vati...</td>\n",
       "      <td>blue</td>\n",
       "    </tr>\n",
       "  </tbody>\n",
       "</table>\n",
       "</div>"
      ],
      "text/plain": [
       "   cidade                nome  visitantesAno  \\\n",
       "0  Atenas            Acrópole        7000000   \n",
       "1  Atenas        Fórum Romano        1500000   \n",
       "2  Atenas   Museu da Acrópole        1400000   \n",
       "3    Roma             Coliseu        7400000   \n",
       "4    Roma        Fórum Romano        4500000   \n",
       "5    Roma  Museus do Vaticano        6000000   \n",
       "\n",
       "                                           descricao color  \n",
       "0  Um dos monumentos mais icônicos da Grécia anti...   red  \n",
       "1  Localizado no coração de Atenas, o Fórum Roman...   red  \n",
       "2  O Museu da Acrópole abriga uma coleção impress...   red  \n",
       "3  Um anfiteatro romano antigo, construído em 80 ...  blue  \n",
       "4  Um antigo centro cívico, religioso e comercial...  blue  \n",
       "5  Um complexo de museus dentro da Cidade do Vati...  blue  "
      ]
     },
     "execution_count": 88,
     "metadata": {},
     "output_type": "execute_result"
    }
   ],
   "source": [
    "import json\n",
    "import pandas as pd\n",
    "import matplotlib.pyplot as plt\n",
    "from matplotlib.patches import Patch\n",
    "\n",
    "# parse response as json array\n",
    "def parseResponse(text):\n",
    "    #text = str.replace(text, \"\\n\", \"\").replace(text, \"```json\", \"\").replace(text, \"```\", \"\")\n",
    "    js = json.loads(text)\n",
    "    print(js)\n",
    "    #return js[\"pontosTuristicos\"]\n",
    "\n",
    "pontos_turisticos = []\n",
    "for response in roteiro2_responses:\n",
    "    response = response.replace(\"```json\",\"\").replace(\"```\",\"\").replace(\"\\\\n\",\"\")\n",
    "    #print(response)\n",
    "    js = json.loads(response)\n",
    "    pontos_turisticos.extend(js[\"pontosTuristicos\"])\n",
    "\n",
    "df = pd.DataFrame(pontos_turisticos)\n",
    "#print(pontos_turisticos)\n",
    "df[\"visitantesAno\"] = df[\"visitantesAno\"].apply(lambda x: x.replace(\".\",\"\").replace(\"+\",\"\"))\n",
    "df[\"visitantesAno\"] =  pd.to_numeric(df[\"visitantesAno\"])\n",
    "df[\"color\"] = df[\"cidade\"].apply(lambda x: \"red\" if x == \"Atenas\" else \"blue\")\n",
    "df"
   ]
  },
  {
   "cell_type": "code",
   "execution_count": 89,
   "metadata": {},
   "outputs": [
    {
     "data": {
      "text/plain": [
       "Text(0.5, 1.0, 'Pontos turísticos mais visitados')"
      ]
     },
     "execution_count": 89,
     "metadata": {},
     "output_type": "execute_result"
    },
    {
     "data": {
      "image/png": "[encoded data removed]",
      "text/plain": [
       "<Figure size 640x480 with 1 Axes>"
      ]
     },
     "metadata": {},
     "output_type": "display_data"
    }
   ],
   "source": [
    "\n",
    "df = df.sort_values('visitantesAno', ascending=True)\n",
    "ax = df.plot.barh(x='nome',y='visitantesAno', color=df['color'])\n",
    "ax.xaxis.set_major_formatter(plt.FuncFormatter(lambda x, pos: \"{:.0f}\".format(x)))\n",
    "\n",
    "# Add custom legend entries\n",
    "handles, labels = ax.get_legend_handles_labels()\n",
    "#ax.legend(handles[:2], labels[:2])\n",
    "ax.legend(\n",
    "    [\n",
    "        Patch(facecolor=\"red\"),\n",
    "        Patch(facecolor=\"blue\")\n",
    "    ], [\"Atenas\", \"Roma\"]\n",
    ")\n",
    "#ax.legend([\"Atenas\", \"Roma\"])\n",
    "plt.xlabel('Visitantes por Ano')\n",
    "plt.title(\"Pontos turísticos mais visitados\")"
   ]
  }
 ],
 "metadata": {
  "kernelspec": {
   "display_name": ".venv",
   "language": "python",
   "name": "python3"
  },
  "language_info": {
   "codemirror_mode": {
    "name": "ipython",
    "version": 3
   },
   "file_extension": ".py",
   "mimetype": "text/x-python",
   "name": "python",
   "nbconvert_exporter": "python",
   "pygments_lexer": "ipython3",
   "version": "3.12.3"
  }
 },
 "nbformat": 4,
 "nbformat_minor": 2
}
