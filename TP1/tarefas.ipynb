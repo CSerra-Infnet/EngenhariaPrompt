{
 "cells": [
  {
   "cell_type": "code",
   "execution_count": 3,
   "metadata": {},
   "outputs": [
    {
     "name": "stdout",
     "output_type": "stream",
     "text": [
      "[('Viagem a Fernando de Noronha - Velejar ', 0.9839830590667469), ('Viagem a Fernando de Noronha - Skydiving ', 0.8587748741130382), ('Viagem a Fernando de Noronha - Viagem a Bonito ', 0.9958634776150151), ('Viagem a Fernando de Noronha - Viagem a Jericoacoara ', 0.9670980886427657), ('Velejar - Viagem a Fernando de Noronha ', 0.9839830590667469), ('Velejar - Skydiving ', 0.8313586070191527), ('Velejar - Viagem a Bonito ', 0.9896648401701355), ('Velejar - Viagem a Jericoacoara ', 0.9610432291106747), ('Skydiving - Viagem a Fernando de Noronha ', 0.8587748741130382), ('Skydiving - Velejar ', 0.8313586070191527), ('Skydiving - Viagem a Bonito ', 0.8563086674113074), ('Skydiving - Viagem a Jericoacoara ', 0.7373444023499247), ('Viagem a Bonito - Viagem a Fernando de Noronha ', 0.9958634776150151), ('Viagem a Bonito - Velejar ', 0.9896648401701355), ('Viagem a Bonito - Skydiving ', 0.8563086674113074), ('Viagem a Bonito - Viagem a Jericoacoara ', 0.9763946270713048), ('Viagem a Jericoacoara - Viagem a Fernando de Noronha ', 0.9670980886427657), ('Viagem a Jericoacoara - Velejar ', 0.9610432291106747), ('Viagem a Jericoacoara - Skydiving ', 0.7373444023499247), ('Viagem a Jericoacoara - Viagem a Bonito ', 0.9763946270713048)]\n"
     ]
    }
   ],
   "source": [
    "import numpy as np\n",
    "from scipy.spatial.distance import cosine\n",
    "\n",
    "EXPERIENCIAS = [\n",
    "    \"Viagem a Fernando de Noronha\",\n",
    "    \"Velejar\",\n",
    "    \"Skydiving\",\n",
    "    \"Viagem a Bonito\",\n",
    "    \"Viagem a Jericoacoara\"\n",
    "]\n",
    "\n",
    "METRICAS_EXPERIENCIAS = [\n",
    "    [9, 8, 5, 3, 8],\n",
    "    [8, 10, 7, 5, 10],\n",
    "    [6, 1, 6, 1, 4],\n",
    "    [10, 9, 6, 5, 9],\n",
    "    [ 9, 10, 3, 6, 7]\n",
    "]\n",
    "\n",
    "def calcula_proximidade():\n",
    "    response = []\n",
    "    for idx, v in enumerate(METRICAS_EXPERIENCIAS):\n",
    "        for idx2, v2 in enumerate(METRICAS_EXPERIENCIAS):\n",
    "            if idx == idx2:\n",
    "                continue\n",
    "            dist = cosine(v, v2)\n",
    "            response.append(((f\"{EXPERIENCIAS[idx]} - {EXPERIENCIAS[idx2]} \"),( 1 -dist)))\n",
    "    \n",
    "    print(response)\n",
    "\n",
    "calcula_proximidade()"
   ]
  },
  {
   "cell_type": "code",
   "execution_count": null,
   "metadata": {},
   "outputs": [
    {
     "name": "stdout",
     "output_type": "stream",
     "text": [
      "['Média por Complexidade Visual ', ['A noite estrelada ', 1.5999999999999996], ['Guernica ', 3.5999999999999996], ['A persistencia da memoria ', 0.5999999999999996], ['O grito ', 0.5999999999999996], ['A criação de Adão ', 2.5999999999999996], 'Proximidade com Emoção ', ['A noite estrelada ', 0.4], ['Guernica ', 2.4], ['A persistencia da memoria ', -0.6], ['O grito ', 2.4], ['A criação de Adão ', -0.6]]\n"
     ]
    }
   ],
   "source": [
    "OBRAS = [\n",
    "    \"A noite estrelada\",\n",
    "    \"Guernica\",\n",
    "    \"A persistencia da memoria\",\n",
    "    \"O grito\",\n",
    "    \"A criação de Adão\"\n",
    "]\n",
    "\n",
    "METRICAS_OBRAS = [\n",
    "    [9, 8, 7, 6, 3],\n",
    "    [2, 10, 9, 8, 5],\n",
    "    [6, 7, 6, 9, 4],\n",
    "    [7, 10, 6, 7, 4],\n",
    "    [8, 7, 8, 3, 6]\n",
    "]\n",
    "\n",
    "METRICAS = ['Cor', 'Emoção', 'Complexidade', 'Abstração', 'Interatividade']\n",
    "\n",
    "def calcula_proximidade_obras():\n",
    "    response = []\n",
    "    media_experiecias = np.mean(METRICAS_EXPERIENCIAS, axis=0)\n",
    "    response.append(f\"Média por Complexidade Visual \")\n",
    "    for idx, v in enumerate(METRICAS_OBRAS):     \n",
    "        dist = v[2] - media_experiecias[2]\n",
    "        response.append([f\"{OBRAS[idx]} \", dist])\n",
    "    \n",
    "    response.append(f\"Proximidade com Emoção \")\n",
    "    \n",
    "    for idx, v in enumerate(METRICAS_OBRAS):\n",
    "        dists = []\n",
    "        for idx2, v2 in enumerate(METRICAS_EXPERIENCIAS):\n",
    "            dist = v[1] - v2[1]\n",
    "            dists.append(dist)\n",
    "        response.append([f\"{OBRAS[idx]} \", np.mean(dists)])\n",
    "\n",
    "    print(response)  \n",
    "        \n",
    "\n",
    "\n",
    "\n",
    "calcula_proximidade_obras()"
   ]
  },
  {
   "cell_type": "code",
   "execution_count": 10,
   "metadata": {},
   "outputs": [
    {
     "name": "stdout",
     "output_type": "stream",
     "text": [
      "[('Apple is known for its iPhones and Mac computers. ', 0.7753935469728915), ('Microsoft develops software products like Windows and Office. ', 0.7600918477931973), ('Amazon is a giant in e-commerce and cloud computing. ', 0.6364456731512158), ('Tesla is a leader in electric vehicles. ', 0.5575428744676277), ('Elon Musk is the CEO of SpaceX and Tesla. ', 0.549875437062392), ('Google is a major player in the tech industry. ', 0.5469441575171061), ('Facebook is one of the largest social media platforms. ', 0.5023081461668362), ('Steve Jobs was the co-founder of Apple. ', 0.4944809286511598), ('Mark Zuckerberg is the founder of Facebook. ', 0.46257905897368246), ('Bill Gates co-founded Microsoft. ', 0.41630623311626835)]\n"
     ]
    }
   ],
   "source": [
    "from gensim.downloader import load as api\n",
    "\n",
    "MODEL = api(\"glove-wiki-gigaword-50\")\n",
    "\n",
    "\n",
    "SENTENCES = [\n",
    "    \"Mark Zuckerberg is the founder of Facebook.\",\n",
    "    \"Facebook is one of the largest social media platforms.\",\n",
    "    \"Bill Gates co-founded Microsoft.\",\n",
    "    \"Microsoft develops software products like Windows and Office.\",\n",
    "    \"Steve Jobs was the co-founder of Apple.\",\n",
    "    \"Apple is known for its iPhones and Mac computers.\",\n",
    "    \"Elon Musk is the CEO of SpaceX and Tesla.\",\n",
    "    \"Tesla is a leader in electric vehicles.\",\n",
    "    \"Google is a major player in the tech industry.\",\n",
    "    \"Amazon is a giant in e-commerce and cloud computing.\"\n",
    "]\n",
    "\n",
    "def get_vector(sentence: str):\n",
    "    global MODEL\n",
    "    words = sentence.split()\n",
    "    words = [w.lower() for w in words]\n",
    "    return np.sum(np.array([MODEL[w] for w in words if w in MODEL]), axis=0) \n",
    "\n",
    "def search_sentence(input: str):\n",
    "    global SENTENCES\n",
    "    vector_input = get_vector(input)\n",
    "    vectors = [get_vector(s) for s in SENTENCES]\n",
    "    response = []\n",
    "    for idx, v in enumerate(vectors):        \n",
    "        dist = cosine(v, vector_input)\n",
    "        response.append(((f\"{SENTENCES[idx]} \"),( 1 -dist)))\n",
    "        \n",
    "    return sorted(response, key=lambda x: x[1], reverse=True)\n",
    "\n",
    "print(search_sentence(\"apple\"))\n"
   ]
  }
 ],
 "metadata": {
  "kernelspec": {
   "display_name": ".venv",
   "language": "python",
   "name": "python3"
  },
  "language_info": {
   "codemirror_mode": {
    "name": "ipython",
    "version": 3
   },
   "file_extension": ".py",
   "mimetype": "text/x-python",
   "name": "python",
   "nbconvert_exporter": "python",
   "pygments_lexer": "ipython3",
   "version": "3.12.3"
  }
 },
 "nbformat": 4,
 "nbformat_minor": 2
}
